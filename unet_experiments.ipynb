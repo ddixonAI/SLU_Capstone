{
 "cells": [
  {
   "cell_type": "markdown",
   "metadata": {},
   "source": [
    "Model Ideas:\n",
    "\n",
    "Non-Pretrained (will train from scratch):\n",
    "- UNet (https://github.com/labmlai/annotated_deep_learning_paper_implementations) - The earliest, foundational architecture for medical image segmentation\n",
    "- Fully Convolutional Transformer (https://arxiv.org/pdf/2206.00566v1.pdf)\n",
    "\n",
    "Pretrained (will fine-tune):\n",
    "- nnUNet (https://github.com/MIC-DKFZ/nnUNet)\n",
    "- Swin UNet (https://github.com/HuCaoFighting/Swin-Unet)\n",
    "- Swin Transformer (https://github.com/microsoft/Swin-Transformer) - More recent application of ViT\n"
   ]
  },
  {
   "cell_type": "code",
   "execution_count": 1,
   "metadata": {},
   "outputs": [],
   "source": [
    "import numpy as np\n",
    "import os.path\n",
    "from PIL import Image\n",
    "from glob import glob\n",
    "from skimage.transform import resize\n",
    "\n",
    "from utils.define_model import *\n",
    "from utils.loss import *\n",
    "from utils.prepare_data import *\n",
    "from utils.test import *\n",
    "from utils.train import *"
   ]
  },
  {
   "cell_type": "code",
   "execution_count": 2,
   "metadata": {},
   "outputs": [
    {
     "name": "stdout",
     "output_type": "stream",
     "text": [
      "c:\\Users\\Derek\\Documents\\SLU_Capstone\n"
     ]
    }
   ],
   "source": [
    "print(os.getcwd())"
   ]
  },
  {
   "cell_type": "markdown",
   "metadata": {},
   "source": [
    "Preparing data:"
   ]
  },
  {
   "cell_type": "code",
   "execution_count": 3,
   "metadata": {},
   "outputs": [
    {
     "name": "stdout",
     "output_type": "stream",
     "text": [
      "Train Image Count: X: 20, Y: 20\n",
      "Test Image Count: X: 20, Y: 20\n"
     ]
    },
    {
     "name": "stderr",
     "output_type": "stream",
     "text": [
      "100%|██████████| 20/20 [00:01<00:00, 15.10it/s]\n",
      "100%|██████████| 20/20 [00:00<00:00, 45.11it/s]\n"
     ]
    }
   ],
   "source": [
    "data_path = 'C:/Users/Derek/Documents/SLU_Capstone/'\n",
    "\n",
    "prepare_data(data_path)"
   ]
  },
  {
   "cell_type": "markdown",
   "metadata": {},
   "source": [
    "Running training:"
   ]
  },
  {
   "cell_type": "code",
   "execution_count": 4,
   "metadata": {},
   "outputs": [
    {
     "name": "stdout",
     "output_type": "stream",
     "text": [
      "Dataset Size:\n",
      "Train: 80 - Valid: 20\n",
      "\n",
      "Valid loss improved from inf to 1.6873. Saving checkpoint: files/checkpoint.pth\n",
      "Epoch: 01 | Epoch Time: 0m 18s\n",
      "\tTrain Loss: 1.226\n",
      "\t Val. Loss: 1.687\n",
      "\n",
      "Valid loss improved from 1.6873 to 1.4413. Saving checkpoint: files/checkpoint.pth\n",
      "Epoch: 02 | Epoch Time: 0m 12s\n",
      "\tTrain Loss: 1.010\n",
      "\t Val. Loss: 1.441\n",
      "\n",
      "No improvement in loss. Patience count now at 1.\n",
      "Epoch: 03 | Epoch Time: 0m 11s\n",
      "\tTrain Loss: 0.953\n",
      "\t Val. Loss: 1.446\n",
      "\n",
      "No improvement in loss. Patience count now at 2.\n",
      "Epoch: 04 | Epoch Time: 0m 11s\n",
      "\tTrain Loss: 0.910\n",
      "\t Val. Loss: 1.559\n",
      "\n",
      "No improvement in loss. Patience count now at 3.\n",
      "Epoch: 05 | Epoch Time: 0m 12s\n",
      "\tTrain Loss: 0.872\n",
      "\t Val. Loss: 1.627\n",
      "\n",
      "No improvement in loss. Patience count now at 4.\n",
      "Epoch: 06 | Epoch Time: 0m 11s\n",
      "\tTrain Loss: 0.835\n",
      "\t Val. Loss: 1.711\n",
      "\n",
      "No improvement in loss. Patience count now at 5.\n",
      "Epoch: 07 | Epoch Time: 0m 12s\n",
      "\tTrain Loss: 0.805\n",
      "\t Val. Loss: 1.725\n",
      "\n",
      "No improvement in loss. Patience count now at 6.\n",
      "Epoch: 08 | Epoch Time: 0m 12s\n",
      "\tTrain Loss: 0.782\n",
      "\t Val. Loss: 1.642\n",
      "\n",
      "Patience of 5 has been reached on Epoch 8. Ending training.\n"
     ]
    }
   ],
   "source": [
    "train_model()"
   ]
  },
  {
   "cell_type": "code",
   "execution_count": null,
   "metadata": {},
   "outputs": [],
   "source": []
  }
 ],
 "metadata": {
  "interpreter": {
   "hash": "4da3de4c28f4d96ea88edc094a8ec215e819499585b9c0ae23f2a62d189fca8e"
  },
  "kernelspec": {
   "display_name": "Python 3.9.12",
   "language": "python",
   "name": "python3"
  },
  "language_info": {
   "codemirror_mode": {
    "name": "ipython",
    "version": 3
   },
   "file_extension": ".py",
   "mimetype": "text/x-python",
   "name": "python",
   "nbconvert_exporter": "python",
   "pygments_lexer": "ipython3",
   "version": "3.9.12"
  },
  "orig_nbformat": 4
 },
 "nbformat": 4,
 "nbformat_minor": 2
}
