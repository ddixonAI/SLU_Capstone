{
 "cells": [
  {
   "cell_type": "markdown",
   "metadata": {},
   "source": [
    "Model Ideas:\n",
    "\n",
    "Transfer Learning:\n",
    "- Vision Transformer\n",
    "- ConvNeXt\n",
    "- ResNET50\n",
    "- Novel arch using cosine similarity instead of convolution (see: https://github.com/Ritz-19/cosine_sim_NN)"
   ]
  },
  {
   "cell_type": "code",
   "execution_count": null,
   "metadata": {},
   "outputs": [],
   "source": []
  }
 ],
 "metadata": {
  "interpreter": {
   "hash": "4da3de4c28f4d96ea88edc094a8ec215e819499585b9c0ae23f2a62d189fca8e"
  },
  "kernelspec": {
   "display_name": "Python 3.9.12",
   "language": "python",
   "name": "python3"
  },
  "language_info": {
   "name": "python",
   "version": "3.9.12"
  },
  "orig_nbformat": 4
 },
 "nbformat": 4,
 "nbformat_minor": 2
}
